{
  "cells": [
    {
      "cell_type": "markdown",
      "metadata": {
        "id": "view-in-github",
        "colab_type": "text"
      },
      "source": [
        "<a href=\"https://colab.research.google.com/github/fereshtehdehkhoda/Example11-Norm-3/blob/main/Norm_3.ipynb\" target=\"_parent\"><img src=\"https://colab.research.google.com/assets/colab-badge.svg\" alt=\"Open In Colab\"/></a>"
      ]
    },
    {
      "cell_type": "markdown",
      "id": "e605bd7d-52af-4e3b-8b8a-229b8d2cf760",
      "metadata": {
        "id": "e605bd7d-52af-4e3b-8b8a-229b8d2cf760"
      },
      "source": [
        "# Norm 3"
      ]
    },
    {
      "cell_type": "code",
      "execution_count": null,
      "id": "1390a039-45b5-4cf0-8adf-238b65ba525f",
      "metadata": {
        "id": "1390a039-45b5-4cf0-8adf-238b65ba525f"
      },
      "outputs": [],
      "source": [
        "#نرم درجه سه بردار زیر را حساب کنید\n",
        "# u(3,1,0,5)"
      ]
    },
    {
      "cell_type": "code",
      "execution_count": null,
      "id": "562be8b6-7539-41fe-8a5d-b12f36e2e393",
      "metadata": {
        "id": "562be8b6-7539-41fe-8a5d-b12f36e2e393"
      },
      "outputs": [],
      "source": [
        "import numpy as np"
      ]
    },
    {
      "cell_type": "code",
      "execution_count": null,
      "id": "a9a63aa8-0edb-413e-9c2c-1ff48349d84e",
      "metadata": {
        "id": "a9a63aa8-0edb-413e-9c2c-1ff48349d84e",
        "outputId": "1be37914-9b50-49bb-cdcd-f2a047e92277"
      },
      "outputs": [
        {
          "data": {
            "text/plain": [
              "5.348481241239363"
            ]
          },
          "execution_count": 8,
          "metadata": {},
          "output_type": "execute_result"
        }
      ],
      "source": [
        "u=np.array([3,1,0,5])\n",
        "norm_3=np.linalg.norm(u,3)\n",
        "norm_3"
      ]
    }
  ],
  "metadata": {
    "kernelspec": {
      "display_name": "Python 3 (ipykernel)",
      "language": "python",
      "name": "python3"
    },
    "language_info": {
      "codemirror_mode": {
        "name": "ipython",
        "version": 3
      },
      "file_extension": ".py",
      "mimetype": "text/x-python",
      "name": "python",
      "nbconvert_exporter": "python",
      "pygments_lexer": "ipython3",
      "version": "3.12.4"
    },
    "colab": {
      "provenance": [],
      "include_colab_link": true
    }
  },
  "nbformat": 4,
  "nbformat_minor": 5
}